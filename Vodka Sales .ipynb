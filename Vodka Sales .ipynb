{
 "cells": [
  {
   "cell_type": "markdown",
   "metadata": {},
   "source": [
    "#  Importing libraries"
   ]
  },
  {
   "cell_type": "code",
   "execution_count": 1,
   "metadata": {},
   "outputs": [
    {
     "name": "stderr",
     "output_type": "stream",
     "text": [
      "C:\\Users\\pradip ganeshpimpare\\Anaconda3\\lib\\site-packages\\statsmodels\\tools\\_testing.py:19: FutureWarning: pandas.util.testing is deprecated. Use the functions in the public API at pandas.testing instead.\n",
      "  import pandas.util.testing as tm\n"
     ]
    }
   ],
   "source": [
    "import pandas as pd\n",
    "import numpy as np\n",
    "import seaborn as sns\n",
    "import matplotlib.pyplot as plt"
   ]
  },
  {
   "cell_type": "markdown",
   "metadata": {},
   "source": [
    "# Importing data"
   ]
  },
  {
   "cell_type": "code",
   "execution_count": 2,
   "metadata": {},
   "outputs": [],
   "source": [
    "df=pd.read_excel('Dataset-Svedka.xlsx')"
   ]
  },
  {
   "cell_type": "code",
   "execution_count": 3,
   "metadata": {
    "scrolled": true
   },
   "outputs": [
    {
     "data": {
      "text/html": [
       "<div>\n",
       "<style scoped>\n",
       "    .dataframe tbody tr th:only-of-type {\n",
       "        vertical-align: middle;\n",
       "    }\n",
       "\n",
       "    .dataframe tbody tr th {\n",
       "        vertical-align: top;\n",
       "    }\n",
       "\n",
       "    .dataframe thead th {\n",
       "        text-align: right;\n",
       "    }\n",
       "</style>\n",
       "<table border=\"1\" class=\"dataframe\">\n",
       "  <thead>\n",
       "    <tr style=\"text-align: right;\">\n",
       "      <th></th>\n",
       "      <th>BrandName</th>\n",
       "      <th>Brand ID</th>\n",
       "      <th>Year</th>\n",
       "      <th>Absolut</th>\n",
       "      <th>Aristocrat</th>\n",
       "      <th>Barton</th>\n",
       "      <th>Belvedere</th>\n",
       "      <th>Burnett</th>\n",
       "      <th>Chopin</th>\n",
       "      <th>Crystal Palac</th>\n",
       "      <th>...</th>\n",
       "      <th>LagTotalMinusSales</th>\n",
       "      <th>TierSales</th>\n",
       "      <th>OutsideTierSales</th>\n",
       "      <th>LagTierSales</th>\n",
       "      <th>LagOutsideTierSales</th>\n",
       "      <th>Firstintro</th>\n",
       "      <th>Marketshare</th>\n",
       "      <th>LagMktshare</th>\n",
       "      <th>YearID</th>\n",
       "      <th>total ad</th>\n",
       "    </tr>\n",
       "  </thead>\n",
       "  <tbody>\n",
       "    <tr>\n",
       "      <th>0</th>\n",
       "      <td>Absolut</td>\n",
       "      <td>15</td>\n",
       "      <td>1995</td>\n",
       "      <td>1</td>\n",
       "      <td>0</td>\n",
       "      <td>0</td>\n",
       "      <td>0</td>\n",
       "      <td>0</td>\n",
       "      <td>0</td>\n",
       "      <td>0</td>\n",
       "      <td>...</td>\n",
       "      <td>60903</td>\n",
       "      <td>1080</td>\n",
       "      <td>59760</td>\n",
       "      <td>1035</td>\n",
       "      <td>59868</td>\n",
       "      <td>0</td>\n",
       "      <td>0.133923</td>\n",
       "      <td>0.124241</td>\n",
       "      <td>3</td>\n",
       "      <td>52343.9</td>\n",
       "    </tr>\n",
       "    <tr>\n",
       "      <th>1</th>\n",
       "      <td>Absolut</td>\n",
       "      <td>15</td>\n",
       "      <td>1996</td>\n",
       "      <td>1</td>\n",
       "      <td>0</td>\n",
       "      <td>0</td>\n",
       "      <td>0</td>\n",
       "      <td>0</td>\n",
       "      <td>0</td>\n",
       "      <td>0</td>\n",
       "      <td>...</td>\n",
       "      <td>60840</td>\n",
       "      <td>1255</td>\n",
       "      <td>59277</td>\n",
       "      <td>1080</td>\n",
       "      <td>59760</td>\n",
       "      <td>0</td>\n",
       "      <td>0.142007</td>\n",
       "      <td>0.133923</td>\n",
       "      <td>4</td>\n",
       "      <td>52297.2</td>\n",
       "    </tr>\n",
       "    <tr>\n",
       "      <th>2</th>\n",
       "      <td>Absolut</td>\n",
       "      <td>15</td>\n",
       "      <td>1997</td>\n",
       "      <td>1</td>\n",
       "      <td>0</td>\n",
       "      <td>0</td>\n",
       "      <td>0</td>\n",
       "      <td>0</td>\n",
       "      <td>0</td>\n",
       "      <td>0</td>\n",
       "      <td>...</td>\n",
       "      <td>60532</td>\n",
       "      <td>1532</td>\n",
       "      <td>58932</td>\n",
       "      <td>1255</td>\n",
       "      <td>59277</td>\n",
       "      <td>0</td>\n",
       "      <td>0.146758</td>\n",
       "      <td>0.142007</td>\n",
       "      <td>5</td>\n",
       "      <td>54947.9</td>\n",
       "    </tr>\n",
       "    <tr>\n",
       "      <th>3</th>\n",
       "      <td>Absolut</td>\n",
       "      <td>15</td>\n",
       "      <td>1998</td>\n",
       "      <td>1</td>\n",
       "      <td>0</td>\n",
       "      <td>0</td>\n",
       "      <td>0</td>\n",
       "      <td>0</td>\n",
       "      <td>0</td>\n",
       "      <td>0</td>\n",
       "      <td>...</td>\n",
       "      <td>60464</td>\n",
       "      <td>1730</td>\n",
       "      <td>58576</td>\n",
       "      <td>1532</td>\n",
       "      <td>58932</td>\n",
       "      <td>0</td>\n",
       "      <td>0.146106</td>\n",
       "      <td>0.146758</td>\n",
       "      <td>6</td>\n",
       "      <td>57432.7</td>\n",
       "    </tr>\n",
       "    <tr>\n",
       "      <th>4</th>\n",
       "      <td>Absolut</td>\n",
       "      <td>15</td>\n",
       "      <td>1999</td>\n",
       "      <td>1</td>\n",
       "      <td>0</td>\n",
       "      <td>0</td>\n",
       "      <td>0</td>\n",
       "      <td>0</td>\n",
       "      <td>0</td>\n",
       "      <td>0</td>\n",
       "      <td>...</td>\n",
       "      <td>60306</td>\n",
       "      <td>2118</td>\n",
       "      <td>57800</td>\n",
       "      <td>1730</td>\n",
       "      <td>58576</td>\n",
       "      <td>0</td>\n",
       "      <td>0.161284</td>\n",
       "      <td>0.146106</td>\n",
       "      <td>7</td>\n",
       "      <td>63213.9</td>\n",
       "    </tr>\n",
       "    <tr>\n",
       "      <th>...</th>\n",
       "      <td>...</td>\n",
       "      <td>...</td>\n",
       "      <td>...</td>\n",
       "      <td>...</td>\n",
       "      <td>...</td>\n",
       "      <td>...</td>\n",
       "      <td>...</td>\n",
       "      <td>...</td>\n",
       "      <td>...</td>\n",
       "      <td>...</td>\n",
       "      <td>...</td>\n",
       "      <td>...</td>\n",
       "      <td>...</td>\n",
       "      <td>...</td>\n",
       "      <td>...</td>\n",
       "      <td>...</td>\n",
       "      <td>...</td>\n",
       "      <td>...</td>\n",
       "      <td>...</td>\n",
       "      <td>...</td>\n",
       "      <td>...</td>\n",
       "    </tr>\n",
       "    <tr>\n",
       "      <th>258</th>\n",
       "      <td>Three Olives</td>\n",
       "      <td>20</td>\n",
       "      <td>2003</td>\n",
       "      <td>0</td>\n",
       "      <td>0</td>\n",
       "      <td>0</td>\n",
       "      <td>0</td>\n",
       "      <td>0</td>\n",
       "      <td>0</td>\n",
       "      <td>0</td>\n",
       "      <td>...</td>\n",
       "      <td>63979</td>\n",
       "      <td>10673</td>\n",
       "      <td>53248</td>\n",
       "      <td>9257</td>\n",
       "      <td>54722</td>\n",
       "      <td>0</td>\n",
       "      <td>0.005430</td>\n",
       "      <td>0.002857</td>\n",
       "      <td>11</td>\n",
       "      <td>12192.6</td>\n",
       "    </tr>\n",
       "    <tr>\n",
       "      <th>259</th>\n",
       "      <td>Three Olives</td>\n",
       "      <td>20</td>\n",
       "      <td>2004</td>\n",
       "      <td>0</td>\n",
       "      <td>0</td>\n",
       "      <td>0</td>\n",
       "      <td>0</td>\n",
       "      <td>0</td>\n",
       "      <td>0</td>\n",
       "      <td>0</td>\n",
       "      <td>...</td>\n",
       "      <td>63921</td>\n",
       "      <td>11250</td>\n",
       "      <td>52528</td>\n",
       "      <td>10673</td>\n",
       "      <td>53248</td>\n",
       "      <td>0</td>\n",
       "      <td>0.010134</td>\n",
       "      <td>0.005430</td>\n",
       "      <td>12</td>\n",
       "      <td>19211.8</td>\n",
       "    </tr>\n",
       "    <tr>\n",
       "      <th>260</th>\n",
       "      <td>Three Olives</td>\n",
       "      <td>20</td>\n",
       "      <td>2005</td>\n",
       "      <td>0</td>\n",
       "      <td>0</td>\n",
       "      <td>0</td>\n",
       "      <td>0</td>\n",
       "      <td>0</td>\n",
       "      <td>0</td>\n",
       "      <td>0</td>\n",
       "      <td>...</td>\n",
       "      <td>63778</td>\n",
       "      <td>12445</td>\n",
       "      <td>51240</td>\n",
       "      <td>11250</td>\n",
       "      <td>52528</td>\n",
       "      <td>0</td>\n",
       "      <td>0.013057</td>\n",
       "      <td>0.010134</td>\n",
       "      <td>13</td>\n",
       "      <td>9339.4</td>\n",
       "    </tr>\n",
       "    <tr>\n",
       "      <th>261</th>\n",
       "      <td>Three Olives</td>\n",
       "      <td>20</td>\n",
       "      <td>2006</td>\n",
       "      <td>0</td>\n",
       "      <td>0</td>\n",
       "      <td>0</td>\n",
       "      <td>0</td>\n",
       "      <td>0</td>\n",
       "      <td>0</td>\n",
       "      <td>0</td>\n",
       "      <td>...</td>\n",
       "      <td>63685</td>\n",
       "      <td>13590</td>\n",
       "      <td>49972</td>\n",
       "      <td>12445</td>\n",
       "      <td>51240</td>\n",
       "      <td>0</td>\n",
       "      <td>0.016169</td>\n",
       "      <td>0.013057</td>\n",
       "      <td>14</td>\n",
       "      <td>14189.8</td>\n",
       "    </tr>\n",
       "    <tr>\n",
       "      <th>262</th>\n",
       "      <td>Three Olives</td>\n",
       "      <td>20</td>\n",
       "      <td>2007</td>\n",
       "      <td>0</td>\n",
       "      <td>0</td>\n",
       "      <td>0</td>\n",
       "      <td>0</td>\n",
       "      <td>0</td>\n",
       "      <td>0</td>\n",
       "      <td>0</td>\n",
       "      <td>...</td>\n",
       "      <td>63562</td>\n",
       "      <td>14824</td>\n",
       "      <td>48550</td>\n",
       "      <td>13590</td>\n",
       "      <td>49972</td>\n",
       "      <td>0</td>\n",
       "      <td>0.020449</td>\n",
       "      <td>0.016169</td>\n",
       "      <td>15</td>\n",
       "      <td>22638.1</td>\n",
       "    </tr>\n",
       "  </tbody>\n",
       "</table>\n",
       "<p>263 rows × 67 columns</p>\n",
       "</div>"
      ],
      "text/plain": [
       "        BrandName  Brand ID  Year  Absolut  Aristocrat  Barton  Belvedere  \\\n",
       "0         Absolut        15  1995        1           0       0          0   \n",
       "1         Absolut        15  1996        1           0       0          0   \n",
       "2         Absolut        15  1997        1           0       0          0   \n",
       "3         Absolut        15  1998        1           0       0          0   \n",
       "4         Absolut        15  1999        1           0       0          0   \n",
       "..            ...       ...   ...      ...         ...     ...        ...   \n",
       "258  Three Olives        20  2003        0           0       0          0   \n",
       "259  Three Olives        20  2004        0           0       0          0   \n",
       "260  Three Olives        20  2005        0           0       0          0   \n",
       "261  Three Olives        20  2006        0           0       0          0   \n",
       "262  Three Olives        20  2007        0           0       0          0   \n",
       "\n",
       "     Burnett  Chopin  Crystal Palac  ...  LagTotalMinusSales  TierSales  \\\n",
       "0          0       0              0  ...               60903       1080   \n",
       "1          0       0              0  ...               60840       1255   \n",
       "2          0       0              0  ...               60532       1532   \n",
       "3          0       0              0  ...               60464       1730   \n",
       "4          0       0              0  ...               60306       2118   \n",
       "..       ...     ...            ...  ...                 ...        ...   \n",
       "258        0       0              0  ...               63979      10673   \n",
       "259        0       0              0  ...               63921      11250   \n",
       "260        0       0              0  ...               63778      12445   \n",
       "261        0       0              0  ...               63685      13590   \n",
       "262        0       0              0  ...               63562      14824   \n",
       "\n",
       "     OutsideTierSales  LagTierSales  LagOutsideTierSales  Firstintro  \\\n",
       "0               59760          1035                59868           0   \n",
       "1               59277          1080                59760           0   \n",
       "2               58932          1255                59277           0   \n",
       "3               58576          1532                58932           0   \n",
       "4               57800          1730                58576           0   \n",
       "..                ...           ...                  ...         ...   \n",
       "258             53248          9257                54722           0   \n",
       "259             52528         10673                53248           0   \n",
       "260             51240         11250                52528           0   \n",
       "261             49972         12445                51240           0   \n",
       "262             48550         13590                49972           0   \n",
       "\n",
       "     Marketshare  LagMktshare  YearID  total ad  \n",
       "0       0.133923     0.124241       3   52343.9  \n",
       "1       0.142007     0.133923       4   52297.2  \n",
       "2       0.146758     0.142007       5   54947.9  \n",
       "3       0.146106     0.146758       6   57432.7  \n",
       "4       0.161284     0.146106       7   63213.9  \n",
       "..           ...          ...     ...       ...  \n",
       "258     0.005430     0.002857      11   12192.6  \n",
       "259     0.010134     0.005430      12   19211.8  \n",
       "260     0.013057     0.010134      13    9339.4  \n",
       "261     0.016169     0.013057      14   14189.8  \n",
       "262     0.020449     0.016169      15   22638.1  \n",
       "\n",
       "[263 rows x 67 columns]"
      ]
     },
     "execution_count": 3,
     "metadata": {},
     "output_type": "execute_result"
    }
   ],
   "source": [
    "df"
   ]
  },
  {
   "cell_type": "code",
   "execution_count": 4,
   "metadata": {},
   "outputs": [],
   "source": [
    "data=df.copy()"
   ]
  },
  {
   "cell_type": "code",
   "execution_count": 5,
   "metadata": {},
   "outputs": [],
   "source": [
    "data.drop(columns=[\"Absolut\",\"Aristocrat\",\"Barton\",\"Belvedere\",\"Burnett\",\"Chopin\",\"Crystal Palac\",\"Finlandia\",\"Fleischmann's\",\n",
    "                   'Fris',\"Gilbey's\",\"Gordon's\",\"Grey Goose\",\"Kamchatka\",\"Ketel One\",\"Level\",\"McCormick\",\"Polar Ice\",\"Pravda\",\n",
    "                  \"Seagram's\",\"Skol\",\"Sky\",\"Smirnoff\",\"Tanqueray\",\"Stolicnaya\",\"Three Olives\",\"Popov\",\"Ln2Lsales\",\n",
    "                   \"diff\",\"total ad\"],inplace=True)"
   ]
  },
  {
   "cell_type": "code",
   "execution_count": 6,
   "metadata": {},
   "outputs": [
    {
     "data": {
      "text/html": [
       "<div>\n",
       "<style scoped>\n",
       "    .dataframe tbody tr th:only-of-type {\n",
       "        vertical-align: middle;\n",
       "    }\n",
       "\n",
       "    .dataframe tbody tr th {\n",
       "        vertical-align: top;\n",
       "    }\n",
       "\n",
       "    .dataframe thead th {\n",
       "        text-align: right;\n",
       "    }\n",
       "</style>\n",
       "<table border=\"1\" class=\"dataframe\">\n",
       "  <thead>\n",
       "    <tr style=\"text-align: right;\">\n",
       "      <th></th>\n",
       "      <th>BrandName</th>\n",
       "      <th>Brand ID</th>\n",
       "      <th>Year</th>\n",
       "      <th>TotalSales</th>\n",
       "      <th>LagTotalSales</th>\n",
       "      <th>2LagTotalSales</th>\n",
       "      <th>LnSales</th>\n",
       "      <th>LnLSales</th>\n",
       "      <th>LnDiff</th>\n",
       "      <th>IfDom</th>\n",
       "      <th>...</th>\n",
       "      <th>TotalMinusSales</th>\n",
       "      <th>LagTotalMinusSales</th>\n",
       "      <th>TierSales</th>\n",
       "      <th>OutsideTierSales</th>\n",
       "      <th>LagTierSales</th>\n",
       "      <th>LagOutsideTierSales</th>\n",
       "      <th>Firstintro</th>\n",
       "      <th>Marketshare</th>\n",
       "      <th>LagMktshare</th>\n",
       "      <th>YearID</th>\n",
       "    </tr>\n",
       "  </thead>\n",
       "  <tbody>\n",
       "    <tr>\n",
       "      <th>0</th>\n",
       "      <td>Absolut</td>\n",
       "      <td>15</td>\n",
       "      <td>1995</td>\n",
       "      <td>3000</td>\n",
       "      <td>2905</td>\n",
       "      <td>2790</td>\n",
       "      <td>8.006368</td>\n",
       "      <td>7.974189</td>\n",
       "      <td>0.032179</td>\n",
       "      <td>0</td>\n",
       "      <td>...</td>\n",
       "      <td>60840</td>\n",
       "      <td>60903</td>\n",
       "      <td>1080</td>\n",
       "      <td>59760</td>\n",
       "      <td>1035</td>\n",
       "      <td>59868</td>\n",
       "      <td>0</td>\n",
       "      <td>0.133923</td>\n",
       "      <td>0.124241</td>\n",
       "      <td>3</td>\n",
       "    </tr>\n",
       "    <tr>\n",
       "      <th>1</th>\n",
       "      <td>Absolut</td>\n",
       "      <td>15</td>\n",
       "      <td>1996</td>\n",
       "      <td>3340</td>\n",
       "      <td>3000</td>\n",
       "      <td>2905</td>\n",
       "      <td>8.113726</td>\n",
       "      <td>8.006368</td>\n",
       "      <td>0.107358</td>\n",
       "      <td>0</td>\n",
       "      <td>...</td>\n",
       "      <td>60532</td>\n",
       "      <td>60840</td>\n",
       "      <td>1255</td>\n",
       "      <td>59277</td>\n",
       "      <td>1080</td>\n",
       "      <td>59760</td>\n",
       "      <td>0</td>\n",
       "      <td>0.142007</td>\n",
       "      <td>0.133923</td>\n",
       "      <td>4</td>\n",
       "    </tr>\n",
       "    <tr>\n",
       "      <th>2</th>\n",
       "      <td>Absolut</td>\n",
       "      <td>15</td>\n",
       "      <td>1997</td>\n",
       "      <td>3440</td>\n",
       "      <td>3340</td>\n",
       "      <td>3000</td>\n",
       "      <td>8.143227</td>\n",
       "      <td>8.113726</td>\n",
       "      <td>0.029501</td>\n",
       "      <td>0</td>\n",
       "      <td>...</td>\n",
       "      <td>60464</td>\n",
       "      <td>60532</td>\n",
       "      <td>1532</td>\n",
       "      <td>58932</td>\n",
       "      <td>1255</td>\n",
       "      <td>59277</td>\n",
       "      <td>0</td>\n",
       "      <td>0.146758</td>\n",
       "      <td>0.142007</td>\n",
       "      <td>5</td>\n",
       "    </tr>\n",
       "    <tr>\n",
       "      <th>3</th>\n",
       "      <td>Absolut</td>\n",
       "      <td>15</td>\n",
       "      <td>1998</td>\n",
       "      <td>3630</td>\n",
       "      <td>3440</td>\n",
       "      <td>3340</td>\n",
       "      <td>8.196988</td>\n",
       "      <td>8.143227</td>\n",
       "      <td>0.053761</td>\n",
       "      <td>0</td>\n",
       "      <td>...</td>\n",
       "      <td>60306</td>\n",
       "      <td>60464</td>\n",
       "      <td>1730</td>\n",
       "      <td>58576</td>\n",
       "      <td>1532</td>\n",
       "      <td>58932</td>\n",
       "      <td>0</td>\n",
       "      <td>0.146106</td>\n",
       "      <td>0.146758</td>\n",
       "      <td>6</td>\n",
       "    </tr>\n",
       "    <tr>\n",
       "      <th>4</th>\n",
       "      <td>Absolut</td>\n",
       "      <td>15</td>\n",
       "      <td>1999</td>\n",
       "      <td>4050</td>\n",
       "      <td>3630</td>\n",
       "      <td>3440</td>\n",
       "      <td>8.306472</td>\n",
       "      <td>8.196988</td>\n",
       "      <td>0.109484</td>\n",
       "      <td>0</td>\n",
       "      <td>...</td>\n",
       "      <td>59918</td>\n",
       "      <td>60306</td>\n",
       "      <td>2118</td>\n",
       "      <td>57800</td>\n",
       "      <td>1730</td>\n",
       "      <td>58576</td>\n",
       "      <td>0</td>\n",
       "      <td>0.161284</td>\n",
       "      <td>0.146106</td>\n",
       "      <td>7</td>\n",
       "    </tr>\n",
       "  </tbody>\n",
       "</table>\n",
       "<p>5 rows × 37 columns</p>\n",
       "</div>"
      ],
      "text/plain": [
       "  BrandName  Brand ID  Year  TotalSales  LagTotalSales  2LagTotalSales  \\\n",
       "0   Absolut        15  1995        3000           2905            2790   \n",
       "1   Absolut        15  1996        3340           3000            2905   \n",
       "2   Absolut        15  1997        3440           3340            3000   \n",
       "3   Absolut        15  1998        3630           3440            3340   \n",
       "4   Absolut        15  1999        4050           3630            3440   \n",
       "\n",
       "    LnSales  LnLSales    LnDiff  IfDom  ...  TotalMinusSales  \\\n",
       "0  8.006368  7.974189  0.032179      0  ...            60840   \n",
       "1  8.113726  8.006368  0.107358      0  ...            60532   \n",
       "2  8.143227  8.113726  0.029501      0  ...            60464   \n",
       "3  8.196988  8.143227  0.053761      0  ...            60306   \n",
       "4  8.306472  8.196988  0.109484      0  ...            59918   \n",
       "\n",
       "   LagTotalMinusSales  TierSales  OutsideTierSales  LagTierSales  \\\n",
       "0               60903       1080             59760          1035   \n",
       "1               60840       1255             59277          1080   \n",
       "2               60532       1532             58932          1255   \n",
       "3               60464       1730             58576          1532   \n",
       "4               60306       2118             57800          1730   \n",
       "\n",
       "   LagOutsideTierSales  Firstintro  Marketshare  LagMktshare  YearID  \n",
       "0                59868           0     0.133923     0.124241       3  \n",
       "1                59760           0     0.142007     0.133923       4  \n",
       "2                59277           0     0.146758     0.142007       5  \n",
       "3                58932           0     0.146106     0.146758       6  \n",
       "4                58576           0     0.161284     0.146106       7  \n",
       "\n",
       "[5 rows x 37 columns]"
      ]
     },
     "execution_count": 6,
     "metadata": {},
     "output_type": "execute_result"
    }
   ],
   "source": [
    "data.head()"
   ]
  },
  {
   "cell_type": "markdown",
   "metadata": {},
   "source": [
    "# Null values in dataset"
   ]
  },
  {
   "cell_type": "code",
   "execution_count": 7,
   "metadata": {
    "scrolled": true
   },
   "outputs": [
    {
     "data": {
      "text/plain": [
       "BrandName               0\n",
       "Brand ID                0\n",
       "Year                    0\n",
       "TotalSales              0\n",
       "LagTotalSales           0\n",
       "2LagTotalSales          0\n",
       "LnSales                 0\n",
       "LnLSales                0\n",
       "LnDiff                  0\n",
       "IfDom                   0\n",
       "DollarSales             0\n",
       "PriceRerUnit            0\n",
       "LagPrice               13\n",
       "LnPrice                 0\n",
       "LnLPrice               13\n",
       "Mag                     0\n",
       "News                    0\n",
       "Outdoor                 0\n",
       "Broad                   0\n",
       "Print                   0\n",
       "LnMag                   0\n",
       "LnNews                  0\n",
       "LnOut                   0\n",
       "LnBroad                 0\n",
       "LnPrint                 0\n",
       "Tier1                   0\n",
       "Tier2                   0\n",
       "TotalMinusSales         0\n",
       "LagTotalMinusSales      0\n",
       "TierSales               0\n",
       "OutsideTierSales        0\n",
       "LagTierSales            0\n",
       "LagOutsideTierSales     0\n",
       "Firstintro              0\n",
       "Marketshare             0\n",
       "LagMktshare             0\n",
       "YearID                  0\n",
       "dtype: int64"
      ]
     },
     "execution_count": 7,
     "metadata": {},
     "output_type": "execute_result"
    }
   ],
   "source": [
    "data.isnull().sum() "
   ]
  },
  {
   "cell_type": "markdown",
   "metadata": {},
   "source": [
    "# Outliers analysis"
   ]
  },
  {
   "cell_type": "code",
   "execution_count": 8,
   "metadata": {},
   "outputs": [
    {
     "data": {
      "text/plain": [
       "count      250.000000\n",
       "mean       233.196715\n",
       "std       1721.078091\n",
       "min         27.291230\n",
       "25%         37.762208\n",
       "50%         50.910035\n",
       "75%        117.321700\n",
       "max      20806.000000\n",
       "Name: LagPrice, dtype: float64"
      ]
     },
     "execution_count": 8,
     "metadata": {},
     "output_type": "execute_result"
    }
   ],
   "source": [
    "data.LagPrice.describe()\n"
   ]
  },
  {
   "cell_type": "code",
   "execution_count": 9,
   "metadata": {},
   "outputs": [],
   "source": [
    "# Outliers in Previous year prices of 9l cases "
   ]
  },
  {
   "cell_type": "code",
   "execution_count": 10,
   "metadata": {},
   "outputs": [
    {
     "data": {
      "text/plain": [
       "<matplotlib.axes._subplots.AxesSubplot at 0x192deae5488>"
      ]
     },
     "execution_count": 10,
     "metadata": {},
     "output_type": "execute_result"
    },
    {
     "data": {
      "image/png": "[encoded data removed]",
      "text/plain": [
       "<Figure size 432x288 with 1 Axes>"
      ]
     },
     "metadata": {
      "needs_background": "light"
     },
     "output_type": "display_data"
    }
   ],
   "source": [
    "sns.boxplot(x='LagPrice',data=data) # we can se that there are outliers  in Price so due to this values we can fill the \n",
    "#null values with mean of the price or we can fill this values with meadian or we can remove this records"
   ]
  },
  {
   "cell_type": "code",
   "execution_count": 11,
   "metadata": {},
   "outputs": [],
   "source": [
    "data.dropna(inplace=True) \n"
   ]
  },
  {
   "cell_type": "code",
   "execution_count": 12,
   "metadata": {},
   "outputs": [],
   "source": [
    "# null values from the lagPrice  and LnPrice are drop "
   ]
  },
  {
   "cell_type": "code",
   "execution_count": 13,
   "metadata": {},
   "outputs": [
    {
     "data": {
      "text/plain": [
       "count      250.000000\n",
       "mean     62618.164000\n",
       "std       1622.532606\n",
       "min      55209.000000\n",
       "25%      62409.750000\n",
       "50%      63054.500000\n",
       "75%      63599.250000\n",
       "max      64163.000000\n",
       "Name: TotalMinusSales, dtype: float64"
      ]
     },
     "execution_count": 13,
     "metadata": {},
     "output_type": "execute_result"
    }
   ],
   "source": [
    "data.TotalMinusSales.describe() "
   ]
  },
  {
   "cell_type": "code",
   "execution_count": 14,
   "metadata": {},
   "outputs": [
    {
     "data": {
      "text/plain": [
       "<matplotlib.axes._subplots.AxesSubplot at 0x192e00fac08>"
      ]
     },
     "execution_count": 14,
     "metadata": {},
     "output_type": "execute_result"
    },
    {
     "data": {
      "image/png": "[encoded data removed]",
      "text/plain": [
       "<Figure size 432x288 with 1 Axes>"
      ]
     },
     "metadata": {
      "needs_background": "light"
     },
     "output_type": "display_data"
    }
   ],
   "source": [
    "sns.boxplot(x='TotalMinusSales',data=data) # there are lots of values below the range"
   ]
  },
  {
   "cell_type": "code",
   "execution_count": null,
   "metadata": {},
   "outputs": [],
   "source": []
  },
  {
   "cell_type": "code",
   "execution_count": 15,
   "metadata": {},
   "outputs": [
    {
     "data": {
      "text/plain": [
       "Index(['BrandName', 'Brand ID', 'Year', 'TotalSales', 'LagTotalSales',\n",
       "       '2LagTotalSales', 'LnSales', 'LnLSales', 'LnDiff', 'IfDom',\n",
       "       'DollarSales', 'PriceRerUnit', 'LagPrice', 'LnPrice', 'LnLPrice', 'Mag',\n",
       "       'News', 'Outdoor', 'Broad', 'Print', 'LnMag', 'LnNews', 'LnOut',\n",
       "       'LnBroad', 'LnPrint', 'Tier1', 'Tier2', 'TotalMinusSales',\n",
       "       'LagTotalMinusSales', 'TierSales', 'OutsideTierSales', 'LagTierSales',\n",
       "       'LagOutsideTierSales', 'Firstintro', 'Marketshare', 'LagMktshare',\n",
       "       'YearID'],\n",
       "      dtype='object')"
      ]
     },
     "execution_count": 15,
     "metadata": {},
     "output_type": "execute_result"
    }
   ],
   "source": [
    "data.columns"
   ]
  },
  {
   "cell_type": "code",
   "execution_count": 16,
   "metadata": {},
   "outputs": [
    {
     "data": {
      "text/plain": [
       "BrandName               object\n",
       "Brand ID                 int64\n",
       "Year                     int64\n",
       "TotalSales               int64\n",
       "LagTotalSales            int64\n",
       "2LagTotalSales           int64\n",
       "LnSales                float64\n",
       "LnLSales               float64\n",
       "LnDiff                 float64\n",
       "IfDom                    int64\n",
       "DollarSales            float64\n",
       "PriceRerUnit           float64\n",
       "LagPrice               float64\n",
       "LnPrice                float64\n",
       "LnLPrice               float64\n",
       "Mag                    float64\n",
       "News                   float64\n",
       "Outdoor                float64\n",
       "Broad                  float64\n",
       "Print                  float64\n",
       "LnMag                  float64\n",
       "LnNews                 float64\n",
       "LnOut                  float64\n",
       "LnBroad                float64\n",
       "LnPrint                float64\n",
       "Tier1                    int64\n",
       "Tier2                    int64\n",
       "TotalMinusSales          int64\n",
       "LagTotalMinusSales       int64\n",
       "TierSales                int64\n",
       "OutsideTierSales         int64\n",
       "LagTierSales             int64\n",
       "LagOutsideTierSales      int64\n",
       "Firstintro               int64\n",
       "Marketshare            float64\n",
       "LagMktshare            float64\n",
       "YearID                   int64\n",
       "dtype: object"
      ]
     },
     "execution_count": 16,
     "metadata": {},
     "output_type": "execute_result"
    }
   ],
   "source": [
    "data.dtypes # datatypesof the collumns"
   ]
  },
  {
   "cell_type": "markdown",
   "metadata": {},
   "source": [
    "# Sales trend of each brand"
   ]
  },
  {
   "cell_type": "code",
   "execution_count": 17,
   "metadata": {},
   "outputs": [
    {
     "data": {
      "text/plain": [
       "array(['Absolut', 'Aristocrat', 'Barton', 'Belvedere', 'Burnett',\n",
       "       'Chopin', 'Crystal Palac', 'Finlandia', \"Fleischmann's\", 'Fris',\n",
       "       \"Gilbey's\", \"Gordon's\", 'Grey Goose', 'Kamchatka', 'Ketel One',\n",
       "       'Level', 'McCormick', 'Polar Ice', 'Popov', 'Pravda', 'Skol',\n",
       "       'Sky', 'Smirnoff', 'Stolicnaya', 'Tanqueray', 'Three Olives'],\n",
       "      dtype=object)"
      ]
     },
     "execution_count": 17,
     "metadata": {},
     "output_type": "execute_result"
    }
   ],
   "source": [
    "list1=data['BrandName'].unique() #total brands that are present\n",
    "list1"
   ]
  },
  {
   "cell_type": "code",
   "execution_count": null,
   "metadata": {},
   "outputs": [],
   "source": [
    "\n",
    "    "
   ]
  },
  {
   "cell_type": "code",
   "execution_count": 18,
   "metadata": {},
   "outputs": [
    {
     "data": {
      "text/plain": [
       "[]"
      ]
     },
     "execution_count": 18,
     "metadata": {},
     "output_type": "execute_result"
    },
    {
     "data": {
      "image/png": "[encoded data removed]",
      "text/plain": [
       "<Figure size 1440x576 with 1 Axes>"
      ]
     },
     "metadata": {
      "needs_background": "light"
     },
     "output_type": "display_data"
    }
   ],
   "source": [
    "plt.figure(figsize=(20,8))\n",
    "sns.lineplot(x='Year',y='TotalSales',hue='BrandName',data=data)\n",
    "plt.plot()"
   ]
  },
  {
   "cell_type": "code",
   "execution_count": null,
   "metadata": {},
   "outputs": [],
   "source": []
  },
  {
   "cell_type": "markdown",
   "metadata": {},
   "source": [
    "# Q1  Regression of the natural logarithm of sales on all the following price: price, print marketing expenditure, outdoor marketing expenditure, broadcast marketing expenditure, and previous years’s sale"
   ]
  },
  {
   "cell_type": "code",
   "execution_count": 19,
   "metadata": {},
   "outputs": [
    {
     "data": {
      "text/plain": [
       "Index(['BrandName', 'Brand ID', 'Year', 'TotalSales', 'LagTotalSales',\n",
       "       '2LagTotalSales', 'LnSales', 'LnLSales', 'LnDiff', 'IfDom',\n",
       "       'DollarSales', 'PriceRerUnit', 'LagPrice', 'LnPrice', 'LnLPrice', 'Mag',\n",
       "       'News', 'Outdoor', 'Broad', 'Print', 'LnMag', 'LnNews', 'LnOut',\n",
       "       'LnBroad', 'LnPrint', 'Tier1', 'Tier2', 'TotalMinusSales',\n",
       "       'LagTotalMinusSales', 'TierSales', 'OutsideTierSales', 'LagTierSales',\n",
       "       'LagOutsideTierSales', 'Firstintro', 'Marketshare', 'LagMktshare',\n",
       "       'YearID'],\n",
       "      dtype='object')"
      ]
     },
     "execution_count": 19,
     "metadata": {},
     "output_type": "execute_result"
    }
   ],
   "source": [
    "data.columns"
   ]
  },
  {
   "cell_type": "code",
   "execution_count": null,
   "metadata": {},
   "outputs": [],
   "source": []
  },
  {
   "cell_type": "code",
   "execution_count": 20,
   "metadata": {},
   "outputs": [],
   "source": [
    "d1=data.iloc[ : , [6,4,11,12,17,19]].copy() # taking only the required columns from the  data"
   ]
  },
  {
   "cell_type": "code",
   "execution_count": null,
   "metadata": {},
   "outputs": [],
   "source": []
  },
  {
   "cell_type": "code",
   "execution_count": 21,
   "metadata": {},
   "outputs": [
    {
     "data": {
      "text/html": [
       "<div>\n",
       "<style scoped>\n",
       "    .dataframe tbody tr th:only-of-type {\n",
       "        vertical-align: middle;\n",
       "    }\n",
       "\n",
       "    .dataframe tbody tr th {\n",
       "        vertical-align: top;\n",
       "    }\n",
       "\n",
       "    .dataframe thead th {\n",
       "        text-align: right;\n",
       "    }\n",
       "</style>\n",
       "<table border=\"1\" class=\"dataframe\">\n",
       "  <thead>\n",
       "    <tr style=\"text-align: right;\">\n",
       "      <th></th>\n",
       "      <th>LnSales</th>\n",
       "      <th>LagTotalSales</th>\n",
       "      <th>PriceRerUnit</th>\n",
       "      <th>LagPrice</th>\n",
       "      <th>Outdoor</th>\n",
       "      <th>Print</th>\n",
       "    </tr>\n",
       "  </thead>\n",
       "  <tbody>\n",
       "    <tr>\n",
       "      <th>0</th>\n",
       "      <td>8.006368</td>\n",
       "      <td>2905</td>\n",
       "      <td>117.3467</td>\n",
       "      <td>109.2943</td>\n",
       "      <td>332.7</td>\n",
       "      <td>26005.1</td>\n",
       "    </tr>\n",
       "    <tr>\n",
       "      <th>1</th>\n",
       "      <td>8.113726</td>\n",
       "      <td>3000</td>\n",
       "      <td>110.8000</td>\n",
       "      <td>117.3467</td>\n",
       "      <td>625.0</td>\n",
       "      <td>25835.6</td>\n",
       "    </tr>\n",
       "    <tr>\n",
       "      <th>2</th>\n",
       "      <td>8.143227</td>\n",
       "      <td>3340</td>\n",
       "      <td>110.8000</td>\n",
       "      <td>110.8000</td>\n",
       "      <td>515.7</td>\n",
       "      <td>27215.6</td>\n",
       "    </tr>\n",
       "    <tr>\n",
       "      <th>3</th>\n",
       "      <td>8.196988</td>\n",
       "      <td>3440</td>\n",
       "      <td>115.6300</td>\n",
       "      <td>110.8000</td>\n",
       "      <td>1420.4</td>\n",
       "      <td>27925.2</td>\n",
       "    </tr>\n",
       "    <tr>\n",
       "      <th>4</th>\n",
       "      <td>8.306472</td>\n",
       "      <td>3630</td>\n",
       "      <td>115.6301</td>\n",
       "      <td>115.6300</td>\n",
       "      <td>1416.8</td>\n",
       "      <td>30863.4</td>\n",
       "    </tr>\n",
       "  </tbody>\n",
       "</table>\n",
       "</div>"
      ],
      "text/plain": [
       "    LnSales  LagTotalSales  PriceRerUnit  LagPrice  Outdoor    Print\n",
       "0  8.006368           2905      117.3467  109.2943    332.7  26005.1\n",
       "1  8.113726           3000      110.8000  117.3467    625.0  25835.6\n",
       "2  8.143227           3340      110.8000  110.8000    515.7  27215.6\n",
       "3  8.196988           3440      115.6300  110.8000   1420.4  27925.2\n",
       "4  8.306472           3630      115.6301  115.6300   1416.8  30863.4"
      ]
     },
     "execution_count": 21,
     "metadata": {},
     "output_type": "execute_result"
    }
   ],
   "source": [
    "d1.head()"
   ]
  },
  {
   "cell_type": "code",
   "execution_count": 22,
   "metadata": {},
   "outputs": [
    {
     "data": {
      "text/plain": [
       "[]"
      ]
     },
     "execution_count": 22,
     "metadata": {},
     "output_type": "execute_result"
    },
    {
     "data": {
      "image/png": "[encoded data removed]",
      "text/plain": [
       "<Figure size 432x288 with 2 Axes>"
      ]
     },
     "metadata": {
      "needs_background": "light"
     },
     "output_type": "display_data"
    }
   ],
   "source": [
    "#correlation\n",
    "sns.heatmap(d1.corr(),annot=True)\n",
    "plt.plot()"
   ]
  },
  {
   "cell_type": "code",
   "execution_count": 23,
   "metadata": {},
   "outputs": [],
   "source": [
    "# from the heat map we can see that total sales is very much dependent on the previous year sales"
   ]
  },
  {
   "cell_type": "code",
   "execution_count": 24,
   "metadata": {},
   "outputs": [],
   "source": [
    "x=d1.drop(columns=['LnSales'])\n",
    "y=d1.LnSales"
   ]
  },
  {
   "cell_type": "markdown",
   "metadata": {},
   "source": [
    "# Slpiting the train and test data"
   ]
  },
  {
   "cell_type": "code",
   "execution_count": 25,
   "metadata": {},
   "outputs": [],
   "source": [
    "from sklearn.model_selection import train_test_split\n",
    "X_train,X_test,y_train,y_test=train_test_split(x,y,test_size=0.2,random_state=0)"
   ]
  },
  {
   "cell_type": "markdown",
   "metadata": {},
   "source": [
    "# Fitting the model"
   ]
  },
  {
   "cell_type": "code",
   "execution_count": 26,
   "metadata": {},
   "outputs": [
    {
     "data": {
      "text/plain": [
       "LinearRegression()"
      ]
     },
     "execution_count": 26,
     "metadata": {},
     "output_type": "execute_result"
    }
   ],
   "source": [
    "from sklearn.linear_model import LinearRegression\n",
    "le=LinearRegression()\n",
    "le.fit(X_train,y_train)"
   ]
  },
  {
   "cell_type": "markdown",
   "metadata": {},
   "source": [
    "# Predecting the test data"
   ]
  },
  {
   "cell_type": "code",
   "execution_count": 27,
   "metadata": {},
   "outputs": [],
   "source": [
    "y_pred=le.predict(X_test)"
   ]
  },
  {
   "cell_type": "code",
   "execution_count": 28,
   "metadata": {},
   "outputs": [
    {
     "data": {
      "text/plain": [
       "array([6.6045885 , 7.13692036, 6.61994438, 7.02662788, 6.15213216,\n",
       "       4.30227431, 6.92873304, 5.750419  , 6.52775789, 6.45600804,\n",
       "       9.63486773, 6.66419261, 6.64937057, 4.63392805, 6.52890661,\n",
       "       6.56656871, 6.61785675, 6.83867022, 6.69867159, 6.66807723,\n",
       "       6.75829845, 6.35881804, 5.79221676, 6.57134258, 6.70547626,\n",
       "       6.56706856, 8.279559  , 4.98865633, 6.8020131 , 7.03336861,\n",
       "       6.83376639, 5.73227646, 6.58755266, 7.98548917, 7.13020664,\n",
       "       6.45931066, 6.81956123, 8.9013116 , 6.6031091 , 6.90692665,\n",
       "       6.48328895, 7.81647334, 6.69215005, 7.51269487, 6.54201983,\n",
       "       6.66954691, 6.98132093, 5.550447  , 6.53070233, 7.15371184])"
      ]
     },
     "execution_count": 28,
     "metadata": {},
     "output_type": "execute_result"
    }
   ],
   "source": [
    "y_pred"
   ]
  },
  {
   "cell_type": "markdown",
   "metadata": {},
   "source": [
    "# Model Evaluation"
   ]
  },
  {
   "cell_type": "code",
   "execution_count": 29,
   "metadata": {},
   "outputs": [
    {
     "data": {
      "text/plain": [
       "0.20564845687632827"
      ]
     },
     "execution_count": 29,
     "metadata": {},
     "output_type": "execute_result"
    }
   ],
   "source": [
    "from sklearn import metrics\n",
    "from sklearn.metrics import mean_squared_error\n",
    "mean_squared_error(y_pred,y_test)"
   ]
  },
  {
   "cell_type": "code",
   "execution_count": 30,
   "metadata": {},
   "outputs": [],
   "source": [
    "# mean Squared error in this module is very high so this is not  a good module to predict the sales"
   ]
  },
  {
   "cell_type": "code",
   "execution_count": null,
   "metadata": {},
   "outputs": [],
   "source": []
  },
  {
   "cell_type": "code",
   "execution_count": null,
   "metadata": {},
   "outputs": [],
   "source": []
  },
  {
   "cell_type": "markdown",
   "metadata": {},
   "source": [
    "# 2 Question"
   ]
  },
  {
   "cell_type": "markdown",
   "metadata": {},
   "source": [
    "# Run a regression of the natural logarithm of change in sales on the natural logarithm of previous period’s prices and the natural log of marketing expenditures on print, outdoor and broadcasting. "
   ]
  },
  {
   "cell_type": "code",
   "execution_count": 31,
   "metadata": {},
   "outputs": [
    {
     "data": {
      "text/plain": [
       "Index(['BrandName', 'Brand ID', 'Year', 'TotalSales', 'LagTotalSales',\n",
       "       '2LagTotalSales', 'LnSales', 'LnLSales', 'LnDiff', 'IfDom',\n",
       "       'DollarSales', 'PriceRerUnit', 'LagPrice', 'LnPrice', 'LnLPrice', 'Mag',\n",
       "       'News', 'Outdoor', 'Broad', 'Print', 'LnMag', 'LnNews', 'LnOut',\n",
       "       'LnBroad', 'LnPrint', 'Tier1', 'Tier2', 'TotalMinusSales',\n",
       "       'LagTotalMinusSales', 'TierSales', 'OutsideTierSales', 'LagTierSales',\n",
       "       'LagOutsideTierSales', 'Firstintro', 'Marketshare', 'LagMktshare',\n",
       "       'YearID'],\n",
       "      dtype='object')"
      ]
     },
     "execution_count": 31,
     "metadata": {},
     "output_type": "execute_result"
    }
   ],
   "source": [
    "data.columns"
   ]
  },
  {
   "cell_type": "code",
   "execution_count": null,
   "metadata": {},
   "outputs": [],
   "source": []
  },
  {
   "cell_type": "code",
   "execution_count": 32,
   "metadata": {},
   "outputs": [],
   "source": [
    "d2=data.iloc[ : , [8,7,22,23,24]].copy()"
   ]
  },
  {
   "cell_type": "code",
   "execution_count": 33,
   "metadata": {},
   "outputs": [
    {
     "data": {
      "text/html": [
       "<div>\n",
       "<style scoped>\n",
       "    .dataframe tbody tr th:only-of-type {\n",
       "        vertical-align: middle;\n",
       "    }\n",
       "\n",
       "    .dataframe tbody tr th {\n",
       "        vertical-align: top;\n",
       "    }\n",
       "\n",
       "    .dataframe thead th {\n",
       "        text-align: right;\n",
       "    }\n",
       "</style>\n",
       "<table border=\"1\" class=\"dataframe\">\n",
       "  <thead>\n",
       "    <tr style=\"text-align: right;\">\n",
       "      <th></th>\n",
       "      <th>LnDiff</th>\n",
       "      <th>LnLSales</th>\n",
       "      <th>LnOut</th>\n",
       "      <th>LnBroad</th>\n",
       "      <th>LnPrint</th>\n",
       "    </tr>\n",
       "  </thead>\n",
       "  <tbody>\n",
       "    <tr>\n",
       "      <th>0</th>\n",
       "      <td>0.032179</td>\n",
       "      <td>7.974189</td>\n",
       "      <td>0.000010</td>\n",
       "      <td>0.000010</td>\n",
       "      <td>10.16605</td>\n",
       "    </tr>\n",
       "    <tr>\n",
       "      <th>1</th>\n",
       "      <td>0.107358</td>\n",
       "      <td>8.006368</td>\n",
       "      <td>6.384520</td>\n",
       "      <td>0.000010</td>\n",
       "      <td>10.15951</td>\n",
       "    </tr>\n",
       "    <tr>\n",
       "      <th>2</th>\n",
       "      <td>0.029501</td>\n",
       "      <td>8.113726</td>\n",
       "      <td>6.245525</td>\n",
       "      <td>0.000010</td>\n",
       "      <td>10.21155</td>\n",
       "    </tr>\n",
       "    <tr>\n",
       "      <th>3</th>\n",
       "      <td>0.053761</td>\n",
       "      <td>8.143227</td>\n",
       "      <td>7.258694</td>\n",
       "      <td>5.086979</td>\n",
       "      <td>10.23728</td>\n",
       "    </tr>\n",
       "    <tr>\n",
       "      <th>4</th>\n",
       "      <td>0.109484</td>\n",
       "      <td>8.196988</td>\n",
       "      <td>7.256156</td>\n",
       "      <td>4.252772</td>\n",
       "      <td>10.33733</td>\n",
       "    </tr>\n",
       "  </tbody>\n",
       "</table>\n",
       "</div>"
      ],
      "text/plain": [
       "     LnDiff  LnLSales     LnOut   LnBroad   LnPrint\n",
       "0  0.032179  7.974189  0.000010  0.000010  10.16605\n",
       "1  0.107358  8.006368  6.384520  0.000010  10.15951\n",
       "2  0.029501  8.113726  6.245525  0.000010  10.21155\n",
       "3  0.053761  8.143227  7.258694  5.086979  10.23728\n",
       "4  0.109484  8.196988  7.256156  4.252772  10.33733"
      ]
     },
     "execution_count": 33,
     "metadata": {},
     "output_type": "execute_result"
    }
   ],
   "source": [
    "d2.head()"
   ]
  },
  {
   "cell_type": "code",
   "execution_count": 34,
   "metadata": {},
   "outputs": [],
   "source": [
    "x=d2.drop(columns=['LnDiff'])\n",
    "y=d2.LnDiff"
   ]
  },
  {
   "cell_type": "code",
   "execution_count": 35,
   "metadata": {},
   "outputs": [],
   "source": [
    "from sklearn.model_selection import train_test_split\n",
    "X_train,X_test,y_train,y_test=train_test_split(x,y,test_size=0.2,random_state=0)"
   ]
  },
  {
   "cell_type": "code",
   "execution_count": 36,
   "metadata": {},
   "outputs": [
    {
     "data": {
      "text/plain": [
       "LinearRegression()"
      ]
     },
     "execution_count": 36,
     "metadata": {},
     "output_type": "execute_result"
    }
   ],
   "source": [
    "from sklearn.linear_model import LinearRegression\n",
    "le=LinearRegression()\n",
    "le.fit(X_train,y_train)"
   ]
  },
  {
   "cell_type": "code",
   "execution_count": 37,
   "metadata": {},
   "outputs": [],
   "source": [
    "y_pred=le.predict(X_test)"
   ]
  },
  {
   "cell_type": "code",
   "execution_count": 38,
   "metadata": {},
   "outputs": [
    {
     "data": {
      "text/plain": [
       "array([ 0.13275544, -0.04091901,  0.01589685,  0.1043812 ,  0.00246974,\n",
       "        0.24259194, -0.01927062,  0.13912111,  0.04190374,  0.12892597,\n",
       "        0.01938099,  0.09912015,  0.00881087,  0.22574218,  0.02901635,\n",
       "        0.03297914,  0.10810734,  0.12670246,  0.00579094,  0.00860013,\n",
       "        0.12692684,  0.08090628,  0.22406547,  0.02118703,  0.00472924,\n",
       "        0.02576183,  0.04871586,  0.31519715, -0.00663015, -0.02674536,\n",
       "        0.11437266,  0.20687042,  0.01840151, -0.07651558, -0.03402246,\n",
       "        0.15680312, -0.02279084,  0.0575972 ,  0.02465381, -0.02851586,\n",
       "        0.0338252 ,  0.04376842,  0.00171414, -0.05759956,  0.03071186,\n",
       "        0.00839004, -0.02152667,  0.19723945,  0.04117766, -0.03951282])"
      ]
     },
     "execution_count": 38,
     "metadata": {},
     "output_type": "execute_result"
    }
   ],
   "source": [
    "y_pred"
   ]
  },
  {
   "cell_type": "code",
   "execution_count": null,
   "metadata": {},
   "outputs": [],
   "source": []
  },
  {
   "cell_type": "code",
   "execution_count": 39,
   "metadata": {},
   "outputs": [
    {
     "data": {
      "text/plain": [
       "0.01167466183241297"
      ]
     },
     "execution_count": 39,
     "metadata": {},
     "output_type": "execute_result"
    }
   ],
   "source": [
    "from sklearn import metrics\n",
    "from sklearn.metrics import mean_squared_error\n",
    "mean_squared_error(y_pred,y_test)"
   ]
  },
  {
   "cell_type": "code",
   "execution_count": 40,
   "metadata": {},
   "outputs": [],
   "source": [
    "# After using the log columns mean squared error is reduced very much , so using the log column will help much more than the simple value columns"
   ]
  },
  {
   "cell_type": "code",
   "execution_count": null,
   "metadata": {},
   "outputs": [],
   "source": []
  },
  {
   "cell_type": "code",
   "execution_count": null,
   "metadata": {},
   "outputs": [],
   "source": []
  },
  {
   "cell_type": "code",
   "execution_count": null,
   "metadata": {},
   "outputs": [],
   "source": []
  },
  {
   "cell_type": "code",
   "execution_count": null,
   "metadata": {},
   "outputs": [],
   "source": []
  },
  {
   "cell_type": "markdown",
   "metadata": {},
   "source": [
    "# 3 Question"
   ]
  },
  {
   "cell_type": "markdown",
   "metadata": {},
   "source": [
    "## To understand the influence of Vodka quality, run a regression by adding the tier 1 and tier 2 dummy variables (that indicate whether a vodka brand belongs to first or second quality tiers) to the set of independent variables in Q2. Evaluate the results. Perform residual analysis to satisfy the assumptions of regression"
   ]
  },
  {
   "cell_type": "code",
   "execution_count": 41,
   "metadata": {},
   "outputs": [],
   "source": [
    "#d3=d2.copy()"
   ]
  },
  {
   "cell_type": "code",
   "execution_count": 42,
   "metadata": {},
   "outputs": [],
   "source": [
    "d3=data.iloc[ : , [8,7,22,23,24,25,26]].copy()"
   ]
  },
  {
   "cell_type": "code",
   "execution_count": 43,
   "metadata": {},
   "outputs": [
    {
     "data": {
      "text/html": [
       "<div>\n",
       "<style scoped>\n",
       "    .dataframe tbody tr th:only-of-type {\n",
       "        vertical-align: middle;\n",
       "    }\n",
       "\n",
       "    .dataframe tbody tr th {\n",
       "        vertical-align: top;\n",
       "    }\n",
       "\n",
       "    .dataframe thead th {\n",
       "        text-align: right;\n",
       "    }\n",
       "</style>\n",
       "<table border=\"1\" class=\"dataframe\">\n",
       "  <thead>\n",
       "    <tr style=\"text-align: right;\">\n",
       "      <th></th>\n",
       "      <th>LnDiff</th>\n",
       "      <th>LnLSales</th>\n",
       "      <th>LnOut</th>\n",
       "      <th>LnBroad</th>\n",
       "      <th>LnPrint</th>\n",
       "      <th>Tier1</th>\n",
       "      <th>Tier2</th>\n",
       "    </tr>\n",
       "  </thead>\n",
       "  <tbody>\n",
       "    <tr>\n",
       "      <th>0</th>\n",
       "      <td>0.032179</td>\n",
       "      <td>7.974189</td>\n",
       "      <td>0.000010</td>\n",
       "      <td>0.000010</td>\n",
       "      <td>10.16605</td>\n",
       "      <td>1</td>\n",
       "      <td>0</td>\n",
       "    </tr>\n",
       "    <tr>\n",
       "      <th>1</th>\n",
       "      <td>0.107358</td>\n",
       "      <td>8.006368</td>\n",
       "      <td>6.384520</td>\n",
       "      <td>0.000010</td>\n",
       "      <td>10.15951</td>\n",
       "      <td>1</td>\n",
       "      <td>0</td>\n",
       "    </tr>\n",
       "    <tr>\n",
       "      <th>2</th>\n",
       "      <td>0.029501</td>\n",
       "      <td>8.113726</td>\n",
       "      <td>6.245525</td>\n",
       "      <td>0.000010</td>\n",
       "      <td>10.21155</td>\n",
       "      <td>1</td>\n",
       "      <td>0</td>\n",
       "    </tr>\n",
       "    <tr>\n",
       "      <th>3</th>\n",
       "      <td>0.053761</td>\n",
       "      <td>8.143227</td>\n",
       "      <td>7.258694</td>\n",
       "      <td>5.086979</td>\n",
       "      <td>10.23728</td>\n",
       "      <td>1</td>\n",
       "      <td>0</td>\n",
       "    </tr>\n",
       "    <tr>\n",
       "      <th>4</th>\n",
       "      <td>0.109484</td>\n",
       "      <td>8.196988</td>\n",
       "      <td>7.256156</td>\n",
       "      <td>4.252772</td>\n",
       "      <td>10.33733</td>\n",
       "      <td>1</td>\n",
       "      <td>0</td>\n",
       "    </tr>\n",
       "  </tbody>\n",
       "</table>\n",
       "</div>"
      ],
      "text/plain": [
       "     LnDiff  LnLSales     LnOut   LnBroad   LnPrint  Tier1  Tier2\n",
       "0  0.032179  7.974189  0.000010  0.000010  10.16605      1      0\n",
       "1  0.107358  8.006368  6.384520  0.000010  10.15951      1      0\n",
       "2  0.029501  8.113726  6.245525  0.000010  10.21155      1      0\n",
       "3  0.053761  8.143227  7.258694  5.086979  10.23728      1      0\n",
       "4  0.109484  8.196988  7.256156  4.252772  10.33733      1      0"
      ]
     },
     "execution_count": 43,
     "metadata": {},
     "output_type": "execute_result"
    }
   ],
   "source": [
    "d3.head()"
   ]
  },
  {
   "cell_type": "code",
   "execution_count": null,
   "metadata": {},
   "outputs": [],
   "source": []
  },
  {
   "cell_type": "code",
   "execution_count": 44,
   "metadata": {},
   "outputs": [],
   "source": [
    "x=d3.drop(columns=['LnDiff'])\n",
    "y=d3.LnDiff"
   ]
  },
  {
   "cell_type": "code",
   "execution_count": 45,
   "metadata": {},
   "outputs": [],
   "source": [
    "from sklearn.model_selection import train_test_split\n",
    "X_train,X_test,y_train,y_test=train_test_split(x,y,test_size=0.2,random_state=0)"
   ]
  },
  {
   "cell_type": "code",
   "execution_count": null,
   "metadata": {},
   "outputs": [],
   "source": []
  },
  {
   "cell_type": "code",
   "execution_count": null,
   "metadata": {},
   "outputs": [],
   "source": []
  },
  {
   "cell_type": "code",
   "execution_count": 46,
   "metadata": {},
   "outputs": [
    {
     "data": {
      "text/plain": [
       "LinearRegression()"
      ]
     },
     "execution_count": 46,
     "metadata": {},
     "output_type": "execute_result"
    }
   ],
   "source": [
    "from sklearn.linear_model import LinearRegression\n",
    "le=LinearRegression()\n",
    "le.fit(X_train,y_train)"
   ]
  },
  {
   "cell_type": "code",
   "execution_count": 47,
   "metadata": {},
   "outputs": [],
   "source": [
    "y_pred=le.predict(X_test)"
   ]
  },
  {
   "cell_type": "code",
   "execution_count": 48,
   "metadata": {},
   "outputs": [
    {
     "data": {
      "text/plain": [
       "array([ 0.11635826, -0.0417766 ,  0.02225182,  0.09252017, -0.05283327,\n",
       "        0.24266136, -0.01738003,  0.13912175,  0.05156018,  0.11140544,\n",
       "        0.02964821,  0.09401658,  0.0142663 ,  0.2254098 ,  0.03703679,\n",
       "        0.04150264,  0.11071685,  0.12492681,  0.010863  ,  0.0140288 ,\n",
       "        0.11045764,  0.09551395,  0.23605646,  0.02821356,  0.00966652,\n",
       "        0.03336911,  0.04185693,  0.31995715, -0.0031349 , -0.02580366,\n",
       "        0.11652822,  0.2176044 ,  0.02507444, -0.08189202, -0.03400456,\n",
       "        0.15718201, -0.02134713,  0.05015667,  0.03212044, -0.02779892,\n",
       "        0.04245611,  0.03954541,  0.00626867, -0.06057469,  0.03894753,\n",
       "        0.01379205, -0.01992248,  0.20757146,  0.05074193, -0.0401919 ])"
      ]
     },
     "execution_count": 48,
     "metadata": {},
     "output_type": "execute_result"
    }
   ],
   "source": [
    "y_pred"
   ]
  },
  {
   "cell_type": "code",
   "execution_count": null,
   "metadata": {},
   "outputs": [],
   "source": []
  },
  {
   "cell_type": "code",
   "execution_count": 49,
   "metadata": {},
   "outputs": [
    {
     "data": {
      "text/plain": [
       "0.012334265814588036"
      ]
     },
     "execution_count": 49,
     "metadata": {},
     "output_type": "execute_result"
    }
   ],
   "source": [
    "from sklearn import metrics\n",
    "from sklearn.metrics import mean_squared_error\n",
    "mean_squared_error(y_pred,y_test)"
   ]
  },
  {
   "cell_type": "code",
   "execution_count": 50,
   "metadata": {},
   "outputs": [],
   "source": [
    "# we can see that by adding the tier 1 and tier 2 columns  mean squared error is increase by small margine "
   ]
  },
  {
   "cell_type": "markdown",
   "metadata": {},
   "source": [
    "# Q4"
   ]
  },
  {
   "cell_type": "markdown",
   "metadata": {},
   "source": [
    "## To understand the influence of competition and brand power, run a regression by adding the sum of sales of all the competing brands in the previous year (“lagtotalminussales”) to the independent variables in Q3. Perform residual analysis to satisfy the assumptions of regression "
   ]
  },
  {
   "cell_type": "code",
   "execution_count": 51,
   "metadata": {},
   "outputs": [],
   "source": [
    "d4=data.iloc[ : , [8,7,22,23,24,25,26,28]].copy()"
   ]
  },
  {
   "cell_type": "code",
   "execution_count": 52,
   "metadata": {},
   "outputs": [
    {
     "data": {
      "text/plain": [
       "Index(['BrandName', 'Brand ID', 'Year', 'TotalSales', 'LagTotalSales',\n",
       "       '2LagTotalSales', 'LnSales', 'LnLSales', 'LnDiff', 'IfDom',\n",
       "       'DollarSales', 'PriceRerUnit', 'LagPrice', 'LnPrice', 'LnLPrice', 'Mag',\n",
       "       'News', 'Outdoor', 'Broad', 'Print', 'LnMag', 'LnNews', 'LnOut',\n",
       "       'LnBroad', 'LnPrint', 'Tier1', 'Tier2', 'TotalMinusSales',\n",
       "       'LagTotalMinusSales', 'TierSales', 'OutsideTierSales', 'LagTierSales',\n",
       "       'LagOutsideTierSales', 'Firstintro', 'Marketshare', 'LagMktshare',\n",
       "       'YearID'],\n",
       "      dtype='object')"
      ]
     },
     "execution_count": 52,
     "metadata": {},
     "output_type": "execute_result"
    }
   ],
   "source": [
    "data.columns"
   ]
  },
  {
   "cell_type": "code",
   "execution_count": 53,
   "metadata": {},
   "outputs": [
    {
     "data": {
      "text/html": [
       "<div>\n",
       "<style scoped>\n",
       "    .dataframe tbody tr th:only-of-type {\n",
       "        vertical-align: middle;\n",
       "    }\n",
       "\n",
       "    .dataframe tbody tr th {\n",
       "        vertical-align: top;\n",
       "    }\n",
       "\n",
       "    .dataframe thead th {\n",
       "        text-align: right;\n",
       "    }\n",
       "</style>\n",
       "<table border=\"1\" class=\"dataframe\">\n",
       "  <thead>\n",
       "    <tr style=\"text-align: right;\">\n",
       "      <th></th>\n",
       "      <th>LnDiff</th>\n",
       "      <th>LnLSales</th>\n",
       "      <th>LnOut</th>\n",
       "      <th>LnBroad</th>\n",
       "      <th>LnPrint</th>\n",
       "      <th>Tier1</th>\n",
       "      <th>Tier2</th>\n",
       "      <th>LagTotalMinusSales</th>\n",
       "    </tr>\n",
       "  </thead>\n",
       "  <tbody>\n",
       "    <tr>\n",
       "      <th>0</th>\n",
       "      <td>0.032179</td>\n",
       "      <td>7.974189</td>\n",
       "      <td>0.000010</td>\n",
       "      <td>0.000010</td>\n",
       "      <td>10.166050</td>\n",
       "      <td>1</td>\n",
       "      <td>0</td>\n",
       "      <td>60903</td>\n",
       "    </tr>\n",
       "    <tr>\n",
       "      <th>1</th>\n",
       "      <td>0.107358</td>\n",
       "      <td>8.006368</td>\n",
       "      <td>6.384520</td>\n",
       "      <td>0.000010</td>\n",
       "      <td>10.159510</td>\n",
       "      <td>1</td>\n",
       "      <td>0</td>\n",
       "      <td>60840</td>\n",
       "    </tr>\n",
       "    <tr>\n",
       "      <th>2</th>\n",
       "      <td>0.029501</td>\n",
       "      <td>8.113726</td>\n",
       "      <td>6.245525</td>\n",
       "      <td>0.000010</td>\n",
       "      <td>10.211550</td>\n",
       "      <td>1</td>\n",
       "      <td>0</td>\n",
       "      <td>60532</td>\n",
       "    </tr>\n",
       "    <tr>\n",
       "      <th>3</th>\n",
       "      <td>0.053761</td>\n",
       "      <td>8.143227</td>\n",
       "      <td>7.258694</td>\n",
       "      <td>5.086979</td>\n",
       "      <td>10.237280</td>\n",
       "      <td>1</td>\n",
       "      <td>0</td>\n",
       "      <td>60464</td>\n",
       "    </tr>\n",
       "    <tr>\n",
       "      <th>4</th>\n",
       "      <td>0.109484</td>\n",
       "      <td>8.196988</td>\n",
       "      <td>7.256156</td>\n",
       "      <td>4.252772</td>\n",
       "      <td>10.337330</td>\n",
       "      <td>1</td>\n",
       "      <td>0</td>\n",
       "      <td>60306</td>\n",
       "    </tr>\n",
       "    <tr>\n",
       "      <th>...</th>\n",
       "      <td>...</td>\n",
       "      <td>...</td>\n",
       "      <td>...</td>\n",
       "      <td>...</td>\n",
       "      <td>...</td>\n",
       "      <td>...</td>\n",
       "      <td>...</td>\n",
       "      <td>...</td>\n",
       "    </tr>\n",
       "    <tr>\n",
       "      <th>258</th>\n",
       "      <td>0.722135</td>\n",
       "      <td>4.442651</td>\n",
       "      <td>0.000010</td>\n",
       "      <td>0.000010</td>\n",
       "      <td>8.715273</td>\n",
       "      <td>0</td>\n",
       "      <td>1</td>\n",
       "      <td>63979</td>\n",
       "    </tr>\n",
       "    <tr>\n",
       "      <th>259</th>\n",
       "      <td>0.693147</td>\n",
       "      <td>5.164786</td>\n",
       "      <td>0.000010</td>\n",
       "      <td>0.000010</td>\n",
       "      <td>9.170029</td>\n",
       "      <td>0</td>\n",
       "      <td>1</td>\n",
       "      <td>63921</td>\n",
       "    </tr>\n",
       "    <tr>\n",
       "      <th>260</th>\n",
       "      <td>0.305382</td>\n",
       "      <td>5.857933</td>\n",
       "      <td>0.000010</td>\n",
       "      <td>0.000010</td>\n",
       "      <td>8.448636</td>\n",
       "      <td>0</td>\n",
       "      <td>1</td>\n",
       "      <td>63778</td>\n",
       "    </tr>\n",
       "    <tr>\n",
       "      <th>261</th>\n",
       "      <td>0.282405</td>\n",
       "      <td>6.163315</td>\n",
       "      <td>0.000010</td>\n",
       "      <td>0.000010</td>\n",
       "      <td>8.866990</td>\n",
       "      <td>0</td>\n",
       "      <td>1</td>\n",
       "      <td>63685</td>\n",
       "    </tr>\n",
       "    <tr>\n",
       "      <th>262</th>\n",
       "      <td>0.299516</td>\n",
       "      <td>6.445720</td>\n",
       "      <td>4.283587</td>\n",
       "      <td>0.000010</td>\n",
       "      <td>9.330991</td>\n",
       "      <td>0</td>\n",
       "      <td>1</td>\n",
       "      <td>63562</td>\n",
       "    </tr>\n",
       "  </tbody>\n",
       "</table>\n",
       "<p>250 rows × 8 columns</p>\n",
       "</div>"
      ],
      "text/plain": [
       "       LnDiff  LnLSales     LnOut   LnBroad    LnPrint  Tier1  Tier2  \\\n",
       "0    0.032179  7.974189  0.000010  0.000010  10.166050      1      0   \n",
       "1    0.107358  8.006368  6.384520  0.000010  10.159510      1      0   \n",
       "2    0.029501  8.113726  6.245525  0.000010  10.211550      1      0   \n",
       "3    0.053761  8.143227  7.258694  5.086979  10.237280      1      0   \n",
       "4    0.109484  8.196988  7.256156  4.252772  10.337330      1      0   \n",
       "..        ...       ...       ...       ...        ...    ...    ...   \n",
       "258  0.722135  4.442651  0.000010  0.000010   8.715273      0      1   \n",
       "259  0.693147  5.164786  0.000010  0.000010   9.170029      0      1   \n",
       "260  0.305382  5.857933  0.000010  0.000010   8.448636      0      1   \n",
       "261  0.282405  6.163315  0.000010  0.000010   8.866990      0      1   \n",
       "262  0.299516  6.445720  4.283587  0.000010   9.330991      0      1   \n",
       "\n",
       "     LagTotalMinusSales  \n",
       "0                 60903  \n",
       "1                 60840  \n",
       "2                 60532  \n",
       "3                 60464  \n",
       "4                 60306  \n",
       "..                  ...  \n",
       "258               63979  \n",
       "259               63921  \n",
       "260               63778  \n",
       "261               63685  \n",
       "262               63562  \n",
       "\n",
       "[250 rows x 8 columns]"
      ]
     },
     "execution_count": 53,
     "metadata": {},
     "output_type": "execute_result"
    }
   ],
   "source": [
    "d4"
   ]
  },
  {
   "cell_type": "code",
   "execution_count": 54,
   "metadata": {},
   "outputs": [],
   "source": [
    "x=d4.drop(columns=['LnDiff'])\n",
    "y=d4.LnDiff"
   ]
  },
  {
   "cell_type": "code",
   "execution_count": 55,
   "metadata": {},
   "outputs": [],
   "source": [
    "from sklearn.model_selection import train_test_split\n",
    "X_train,X_test,y_train,y_test=train_test_split(x,y,test_size=0.2,random_state=0)"
   ]
  },
  {
   "cell_type": "code",
   "execution_count": 56,
   "metadata": {},
   "outputs": [],
   "source": [
    "from sklearn.linear_model import LinearRegression\n",
    "le=LinearRegression()\n",
    "le.fit(X_train,y_train)\n",
    "y_pred=le.predict(X_test)"
   ]
  },
  {
   "cell_type": "code",
   "execution_count": 57,
   "metadata": {},
   "outputs": [
    {
     "data": {
      "text/plain": [
       "array([ 0.10583861, -0.03878251,  0.01999393,  0.06973154, -0.08382551,\n",
       "        0.2707748 , -0.02514152,  0.11600172,  0.06093771,  0.09499741,\n",
       "        0.0709852 ,  0.05807981,  0.01521517,  0.25251085,  0.03525481,\n",
       "        0.03904564,  0.07596643,  0.09384136,  0.00231677,  0.00681162,\n",
       "        0.09383455,  0.11930483,  0.24397231,  0.02893706,  0.00278084,\n",
       "        0.03523078,  0.0547316 ,  0.38453997, -0.00744331, -0.03359874,\n",
       "        0.0832994 ,  0.21719617,  0.02606344, -0.05191772, -0.03759938,\n",
       "        0.12385964, -0.02968071,  0.06002622,  0.03008228, -0.03167872,\n",
       "        0.04025003,  0.04849561,  0.00714286, -0.04941839,  0.04306239,\n",
       "        0.00563762, -0.02206581,  0.17969257,  0.05897613, -0.04038661])"
      ]
     },
     "execution_count": 57,
     "metadata": {},
     "output_type": "execute_result"
    }
   ],
   "source": [
    "y_pred"
   ]
  },
  {
   "cell_type": "code",
   "execution_count": 58,
   "metadata": {},
   "outputs": [
    {
     "data": {
      "text/plain": [
       "0.014032652571555431"
      ]
     },
     "execution_count": 58,
     "metadata": {},
     "output_type": "execute_result"
    }
   ],
   "source": [
    "from sklearn import metrics\n",
    "from sklearn.metrics import mean_squared_error\n",
    "mean_squared_error(y_pred,y_test)"
   ]
  },
  {
   "cell_type": "code",
   "execution_count": 59,
   "metadata": {},
   "outputs": [],
   "source": [
    "# After adding the sum of sales of all the competing brands in the previous year error is increasing \n",
    "#so we can conclude that the sales is not much dependent on the TotalMinusSales column"
   ]
  },
  {
   "cell_type": "markdown",
   "metadata": {},
   "source": [
    "# Q5"
   ]
  },
  {
   "cell_type": "markdown",
   "metadata": {},
   "source": [
    "#  To measure the sales growth of new brands compared to the existent ones, include the variable “firstintro” to the independent variable set in Q4. Firstintro is equal to one in the first three years after a brand is introduced and is zero elsewhere"
   ]
  },
  {
   "cell_type": "code",
   "execution_count": 60,
   "metadata": {},
   "outputs": [],
   "source": [
    "d5=data.iloc[ : , [8,7,22,23,24,25,26,28,33]].copy()"
   ]
  },
  {
   "cell_type": "code",
   "execution_count": 61,
   "metadata": {},
   "outputs": [
    {
     "data": {
      "text/html": [
       "<div>\n",
       "<style scoped>\n",
       "    .dataframe tbody tr th:only-of-type {\n",
       "        vertical-align: middle;\n",
       "    }\n",
       "\n",
       "    .dataframe tbody tr th {\n",
       "        vertical-align: top;\n",
       "    }\n",
       "\n",
       "    .dataframe thead th {\n",
       "        text-align: right;\n",
       "    }\n",
       "</style>\n",
       "<table border=\"1\" class=\"dataframe\">\n",
       "  <thead>\n",
       "    <tr style=\"text-align: right;\">\n",
       "      <th></th>\n",
       "      <th>LnDiff</th>\n",
       "      <th>LnLSales</th>\n",
       "      <th>LnOut</th>\n",
       "      <th>LnBroad</th>\n",
       "      <th>LnPrint</th>\n",
       "      <th>Tier1</th>\n",
       "      <th>Tier2</th>\n",
       "      <th>LagTotalMinusSales</th>\n",
       "      <th>Firstintro</th>\n",
       "    </tr>\n",
       "  </thead>\n",
       "  <tbody>\n",
       "    <tr>\n",
       "      <th>0</th>\n",
       "      <td>0.032179</td>\n",
       "      <td>7.974189</td>\n",
       "      <td>0.00001</td>\n",
       "      <td>0.00001</td>\n",
       "      <td>10.16605</td>\n",
       "      <td>1</td>\n",
       "      <td>0</td>\n",
       "      <td>60903</td>\n",
       "      <td>0</td>\n",
       "    </tr>\n",
       "    <tr>\n",
       "      <th>1</th>\n",
       "      <td>0.107358</td>\n",
       "      <td>8.006368</td>\n",
       "      <td>6.38452</td>\n",
       "      <td>0.00001</td>\n",
       "      <td>10.15951</td>\n",
       "      <td>1</td>\n",
       "      <td>0</td>\n",
       "      <td>60840</td>\n",
       "      <td>0</td>\n",
       "    </tr>\n",
       "  </tbody>\n",
       "</table>\n",
       "</div>"
      ],
      "text/plain": [
       "     LnDiff  LnLSales    LnOut  LnBroad   LnPrint  Tier1  Tier2  \\\n",
       "0  0.032179  7.974189  0.00001  0.00001  10.16605      1      0   \n",
       "1  0.107358  8.006368  6.38452  0.00001  10.15951      1      0   \n",
       "\n",
       "   LagTotalMinusSales  Firstintro  \n",
       "0               60903           0  \n",
       "1               60840           0  "
      ]
     },
     "execution_count": 61,
     "metadata": {},
     "output_type": "execute_result"
    }
   ],
   "source": [
    "d5.head(2)"
   ]
  },
  {
   "cell_type": "code",
   "execution_count": 62,
   "metadata": {},
   "outputs": [
    {
     "data": {
      "text/plain": [
       "<matplotlib.axes._subplots.AxesSubplot at 0x192e2e2b788>"
      ]
     },
     "execution_count": 62,
     "metadata": {},
     "output_type": "execute_result"
    },
    {
     "data": {
      "image/png": "[encoded data removed]",
      "text/plain": [
       "<Figure size 432x288 with 1 Axes>"
      ]
     },
     "metadata": {
      "needs_background": "light"
     },
     "output_type": "display_data"
    }
   ],
   "source": [
    "sns.countplot(x='Firstintro',data=data)\n",
    "# there is lots of brands which are introduce recently in between 3 year as compare to old brands \n",
    "#then the Sales is very high else other brand sales is very less"
   ]
  },
  {
   "cell_type": "code",
   "execution_count": 63,
   "metadata": {},
   "outputs": [],
   "source": [
    "x=d5.drop(columns=['LnDiff'])\n",
    "y=d5.LnDiff"
   ]
  },
  {
   "cell_type": "code",
   "execution_count": 64,
   "metadata": {},
   "outputs": [],
   "source": [
    "from sklearn.model_selection import train_test_split\n",
    "X_train,X_test,y_train,y_test=train_test_split(x,y,test_size=0.2,random_state=0)"
   ]
  },
  {
   "cell_type": "code",
   "execution_count": 65,
   "metadata": {},
   "outputs": [],
   "source": [
    "from sklearn.linear_model import LinearRegression\n",
    "le=LinearRegression()\n",
    "le.fit(X_train,y_train)\n",
    "y_pred=le.predict(X_test)"
   ]
  },
  {
   "cell_type": "code",
   "execution_count": 66,
   "metadata": {},
   "outputs": [
    {
     "data": {
      "text/plain": [
       "array([ 0.09521161, -0.03008646,  0.01811429,  0.074512  , -0.06312608,\n",
       "        0.19745247, -0.01369278,  0.11792692,  0.04334039,  0.08940325,\n",
       "        0.06477549,  0.07634176,  0.01267761,  0.62607076,  0.02962486,\n",
       "        0.03291723,  0.10044648,  0.10746683,  0.00791373,  0.01065485,\n",
       "        0.08997937,  0.08048799,  0.20605565,  0.02338409,  0.00736499,\n",
       "        0.02761686,  0.04912189,  0.26708132, -0.00192791, -0.02019733,\n",
       "        0.10740201,  0.19013838,  0.02102276, -0.05494883, -0.02557633,\n",
       "        0.1305565 , -0.01688141,  0.05466318,  0.02577527, -0.02085423,\n",
       "        0.03370914,  0.04796901,  0.00649237, -0.04274634,  0.03242697,\n",
       "        0.01026112, -0.01438812,  0.16811091,  0.04245173, -0.02958255])"
      ]
     },
     "execution_count": 66,
     "metadata": {},
     "output_type": "execute_result"
    }
   ],
   "source": [
    "y_pred"
   ]
  },
  {
   "cell_type": "code",
   "execution_count": 67,
   "metadata": {},
   "outputs": [
    {
     "data": {
      "text/plain": [
       "0.01231183052709383"
      ]
     },
     "execution_count": 67,
     "metadata": {},
     "output_type": "execute_result"
    }
   ],
   "source": [
    "from sklearn import metrics\n",
    "from sklearn.metrics import mean_squared_error\n",
    "mean_squared_error(y_pred,y_test)"
   ]
  },
  {
   "cell_type": "code",
   "execution_count": 68,
   "metadata": {},
   "outputs": [],
   "source": [
    "# From mean Squard error after adding the Firstinto column  we conclude that the total sales is highly dependent on the \n",
    "#FirstIntro that is sales depends on the how much old brand is"
   ]
  },
  {
   "cell_type": "code",
   "execution_count": null,
   "metadata": {},
   "outputs": [],
   "source": []
  },
  {
   "cell_type": "code",
   "execution_count": null,
   "metadata": {},
   "outputs": [],
   "source": []
  },
  {
   "cell_type": "code",
   "execution_count": null,
   "metadata": {},
   "outputs": [],
   "source": []
  },
  {
   "cell_type": "code",
   "execution_count": null,
   "metadata": {},
   "outputs": [],
   "source": []
  },
  {
   "cell_type": "code",
   "execution_count": null,
   "metadata": {},
   "outputs": [],
   "source": []
  }
 ],
 "metadata": {
  "kernelspec": {
   "display_name": "Python 3",
   "language": "python",
   "name": "python3"
  },
  "language_info": {
   "codemirror_mode": {
    "name": "ipython",
    "version": 3
   },
   "file_extension": ".py",
   "mimetype": "text/x-python",
   "name": "python",
   "nbconvert_exporter": "python",
   "pygments_lexer": "ipython3",
   "version": "3.7.4"
  }
 },
 "nbformat": 4,
 "nbformat_minor": 2
}
